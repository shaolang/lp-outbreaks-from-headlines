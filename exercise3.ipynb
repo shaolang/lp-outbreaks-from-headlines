{
 "cells": [
  {
   "cell_type": "markdown",
   "metadata": {},
   "source": [
    "# Applying Clustering Algorithms to Find Geographically Similar Headlines\n",
    "\n",
    "## Objective\n",
    "\n",
    "Cluster (find groups of) headlines based on the geographic coordinates using both k-means clustering and DBSCAN. Visualize the clusters on a world map to check the results. Try different parameters and distance measures in the algorithms to produce better clusters.\n",
    "\n",
    "## Workflow\n",
    "\n",
    "1. Apply k-means clustering and the DBSCAN algorithm to the latitude and longitude of each headline.\n",
    "   * Use the default initial parameters for the algorithm or, if you have prior experience, choose parameters you think will work well.\n",
    "   * Assign the cluster labels as another column on the DataFrame.\n",
    "2. Visualize the clusters on a world map using the Basemap library. Color the headlines by the cluster assignment.\n",
    "   * Determine if the clusters are reasonable: Are headlines geographically close to one another in the same cluster?\n",
    "   * Write a visualization function to quickly check clustering results.\n",
    "3. In the likely case that the first clustering is not ideal, adjust the parameters of the algorithm you choose or use a different algorithm.\n",
    "   * You can use an elbow plot to select the number of clusters in k-means.\n",
    "   * The two most important parameters for DBSCAN are eps and min_samples\n",
    "4. Try using DBSCAN with the great circle distance, which finds the distance between two geographic points on a spherical globe.\n",
    "   * Write a function to return the Great Circle distance between two coordinate points.\n",
    "   * Use this function as the metric for DBSCAN.\n",
    "5. Repeat the above steps—cluster, visualize, analyze, tune—as many times as is required until the algorithm correctly assigns close points to the same cluster without too many outliers.\n",
    "\n",
    "## Importance to project\n",
    "\n",
    "Clustering is a form of unsupervised learning that tries to match similar entities with features (for example, geographic coordinates) and a measure (for example, Euclidean distance between the coordinates). We don’t know ahead of time which headlines go in which clusters, so we need a machine learning algorithm to find the clusters for us based on the data we provide.\n",
    "\n",
    "We are using machine learning to extract additional information from our data set, but this time we are compressing the data instead of adding more. We use the algorithm’s output to focus on only the most important clusters and headlines instead of having to examine them all.\n",
    "\n",
    "In the next section, we will interpret the algorithm’s output to identity disease outbreaks."
   ]
  },
  {
   "cell_type": "code",
   "execution_count": null,
   "metadata": {},
   "outputs": [],
   "source": []
  }
 ],
 "metadata": {
  "kernelspec": {
   "display_name": "Python 3",
   "language": "python",
   "name": "python3"
  },
  "language_info": {
   "codemirror_mode": {
    "name": "ipython",
    "version": 3
   },
   "file_extension": ".py",
   "mimetype": "text/x-python",
   "name": "python",
   "nbconvert_exporter": "python",
   "pygments_lexer": "ipython3",
   "version": "3.7.7"
  }
 },
 "nbformat": 4,
 "nbformat_minor": 4
}
